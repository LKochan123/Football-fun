{
 "cells": [
  {
   "cell_type": "code",
   "execution_count": 2,
   "metadata": {},
   "outputs": [],
   "source": [
    "import pandas as pd\n",
    "import numpy as np\n",
    "import sys\n",
    "sys.path.append('../src')\n",
    "import train as t"
   ]
  },
  {
   "cell_type": "markdown",
   "metadata": {},
   "source": [
    "### Dataframe info"
   ]
  },
  {
   "cell_type": "markdown",
   "metadata": {},
   "source": [
    "#### Loading a processed file"
   ]
  },
  {
   "cell_type": "code",
   "execution_count": 3,
   "metadata": {},
   "outputs": [
    {
     "data": {
      "text/html": [
       "<div>\n",
       "<style scoped>\n",
       "    .dataframe tbody tr th:only-of-type {\n",
       "        vertical-align: middle;\n",
       "    }\n",
       "\n",
       "    .dataframe tbody tr th {\n",
       "        vertical-align: top;\n",
       "    }\n",
       "\n",
       "    .dataframe thead th {\n",
       "        text-align: right;\n",
       "    }\n",
       "</style>\n",
       "<table border=\"1\" class=\"dataframe\">\n",
       "  <thead>\n",
       "    <tr style=\"text-align: right;\">\n",
       "      <th></th>\n",
       "      <th>Div</th>\n",
       "      <th>Date</th>\n",
       "      <th>HomeTeam</th>\n",
       "      <th>AwayTeam</th>\n",
       "      <th>FTHG</th>\n",
       "      <th>FTAG</th>\n",
       "      <th>FTR</th>\n",
       "      <th>HTHG</th>\n",
       "      <th>HTAG</th>\n",
       "      <th>HTR</th>\n",
       "      <th>...</th>\n",
       "      <th>A_gd_5</th>\n",
       "      <th>H_eff_5</th>\n",
       "      <th>A_eff_5</th>\n",
       "      <th>HST_avg_5</th>\n",
       "      <th>AST_avg_5</th>\n",
       "      <th>target</th>\n",
       "      <th>H_status</th>\n",
       "      <th>A_status</th>\n",
       "      <th>H_H2H</th>\n",
       "      <th>A_H2H</th>\n",
       "    </tr>\n",
       "  </thead>\n",
       "  <tbody>\n",
       "    <tr>\n",
       "      <th>0</th>\n",
       "      <td>E0</td>\n",
       "      <td>13/08/05</td>\n",
       "      <td>Aston Villa</td>\n",
       "      <td>Bolton</td>\n",
       "      <td>2</td>\n",
       "      <td>2</td>\n",
       "      <td>D</td>\n",
       "      <td>2</td>\n",
       "      <td>2</td>\n",
       "      <td>D</td>\n",
       "      <td>...</td>\n",
       "      <td>NaN</td>\n",
       "      <td>NaN</td>\n",
       "      <td>NaN</td>\n",
       "      <td>0.0</td>\n",
       "      <td>0.0</td>\n",
       "      <td>1</td>\n",
       "      <td>NaN</td>\n",
       "      <td>NaN</td>\n",
       "      <td>NaN</td>\n",
       "      <td>NaN</td>\n",
       "    </tr>\n",
       "    <tr>\n",
       "      <th>1</th>\n",
       "      <td>E0</td>\n",
       "      <td>13/08/05</td>\n",
       "      <td>Everton</td>\n",
       "      <td>Man United</td>\n",
       "      <td>0</td>\n",
       "      <td>2</td>\n",
       "      <td>A</td>\n",
       "      <td>0</td>\n",
       "      <td>1</td>\n",
       "      <td>A</td>\n",
       "      <td>...</td>\n",
       "      <td>NaN</td>\n",
       "      <td>NaN</td>\n",
       "      <td>NaN</td>\n",
       "      <td>0.0</td>\n",
       "      <td>0.0</td>\n",
       "      <td>2</td>\n",
       "      <td>NaN</td>\n",
       "      <td>NaN</td>\n",
       "      <td>NaN</td>\n",
       "      <td>NaN</td>\n",
       "    </tr>\n",
       "    <tr>\n",
       "      <th>2</th>\n",
       "      <td>E0</td>\n",
       "      <td>13/08/05</td>\n",
       "      <td>Fulham</td>\n",
       "      <td>Birmingham</td>\n",
       "      <td>0</td>\n",
       "      <td>0</td>\n",
       "      <td>D</td>\n",
       "      <td>0</td>\n",
       "      <td>0</td>\n",
       "      <td>D</td>\n",
       "      <td>...</td>\n",
       "      <td>NaN</td>\n",
       "      <td>NaN</td>\n",
       "      <td>NaN</td>\n",
       "      <td>0.0</td>\n",
       "      <td>0.0</td>\n",
       "      <td>1</td>\n",
       "      <td>NaN</td>\n",
       "      <td>NaN</td>\n",
       "      <td>NaN</td>\n",
       "      <td>NaN</td>\n",
       "    </tr>\n",
       "    <tr>\n",
       "      <th>3</th>\n",
       "      <td>E0</td>\n",
       "      <td>13/08/05</td>\n",
       "      <td>Man City</td>\n",
       "      <td>West Brom</td>\n",
       "      <td>0</td>\n",
       "      <td>0</td>\n",
       "      <td>D</td>\n",
       "      <td>0</td>\n",
       "      <td>0</td>\n",
       "      <td>D</td>\n",
       "      <td>...</td>\n",
       "      <td>NaN</td>\n",
       "      <td>NaN</td>\n",
       "      <td>NaN</td>\n",
       "      <td>0.0</td>\n",
       "      <td>0.0</td>\n",
       "      <td>1</td>\n",
       "      <td>NaN</td>\n",
       "      <td>NaN</td>\n",
       "      <td>NaN</td>\n",
       "      <td>NaN</td>\n",
       "    </tr>\n",
       "    <tr>\n",
       "      <th>4</th>\n",
       "      <td>E0</td>\n",
       "      <td>13/08/05</td>\n",
       "      <td>Middlesbrough</td>\n",
       "      <td>Liverpool</td>\n",
       "      <td>0</td>\n",
       "      <td>0</td>\n",
       "      <td>D</td>\n",
       "      <td>0</td>\n",
       "      <td>0</td>\n",
       "      <td>D</td>\n",
       "      <td>...</td>\n",
       "      <td>NaN</td>\n",
       "      <td>NaN</td>\n",
       "      <td>NaN</td>\n",
       "      <td>0.0</td>\n",
       "      <td>0.0</td>\n",
       "      <td>1</td>\n",
       "      <td>NaN</td>\n",
       "      <td>NaN</td>\n",
       "      <td>NaN</td>\n",
       "      <td>NaN</td>\n",
       "    </tr>\n",
       "  </tbody>\n",
       "</table>\n",
       "<p>5 rows × 31 columns</p>\n",
       "</div>"
      ],
      "text/plain": [
       "  Div      Date       HomeTeam    AwayTeam  FTHG  FTAG FTR  HTHG  HTAG HTR  \\\n",
       "0  E0  13/08/05    Aston Villa      Bolton     2     2   D     2     2   D   \n",
       "1  E0  13/08/05        Everton  Man United     0     2   A     0     1   A   \n",
       "2  E0  13/08/05         Fulham  Birmingham     0     0   D     0     0   D   \n",
       "3  E0  13/08/05       Man City   West Brom     0     0   D     0     0   D   \n",
       "4  E0  13/08/05  Middlesbrough   Liverpool     0     0   D     0     0   D   \n",
       "\n",
       "   ...  A_gd_5  H_eff_5  A_eff_5  HST_avg_5  AST_avg_5  target  H_status  \\\n",
       "0  ...     NaN      NaN      NaN        0.0        0.0       1       NaN   \n",
       "1  ...     NaN      NaN      NaN        0.0        0.0       2       NaN   \n",
       "2  ...     NaN      NaN      NaN        0.0        0.0       1       NaN   \n",
       "3  ...     NaN      NaN      NaN        0.0        0.0       1       NaN   \n",
       "4  ...     NaN      NaN      NaN        0.0        0.0       1       NaN   \n",
       "\n",
       "   A_status  H_H2H  A_H2H  \n",
       "0       NaN    NaN    NaN  \n",
       "1       NaN    NaN    NaN  \n",
       "2       NaN    NaN    NaN  \n",
       "3       NaN    NaN    NaN  \n",
       "4       NaN    NaN    NaN  \n",
       "\n",
       "[5 rows x 31 columns]"
      ]
     },
     "execution_count": 3,
     "metadata": {},
     "output_type": "execute_result"
    }
   ],
   "source": [
    "file = 'E0_seasons_5_to_23'\n",
    "seasons = pd.read_csv(f'../data/processed/{file}.csv')\n",
    "seasons.head()"
   ]
  },
  {
   "cell_type": "markdown",
   "metadata": {},
   "source": [
    "##### Dataframe shape before cleaning"
   ]
  },
  {
   "cell_type": "code",
   "execution_count": 4,
   "metadata": {},
   "outputs": [
    {
     "data": {
      "text/plain": [
       "(6840, 31)"
      ]
     },
     "execution_count": 4,
     "metadata": {},
     "output_type": "execute_result"
    }
   ],
   "source": [
    "seasons.shape"
   ]
  },
  {
   "cell_type": "markdown",
   "metadata": {},
   "source": [
    "#### Columns dtypes"
   ]
  },
  {
   "cell_type": "code",
   "execution_count": 5,
   "metadata": {},
   "outputs": [
    {
     "data": {
      "text/plain": [
       "Div            object\n",
       "Date           object\n",
       "HomeTeam       object\n",
       "AwayTeam       object\n",
       "FTHG            int64\n",
       "FTAG            int64\n",
       "FTR            object\n",
       "HTHG            int64\n",
       "HTAG            int64\n",
       "HTR            object\n",
       "HS              int64\n",
       "AS              int64\n",
       "HST             int64\n",
       "AST             int64\n",
       "HY              int64\n",
       "AY              int64\n",
       "HR              int64\n",
       "AR              int64\n",
       "HPTS_avg_5    float64\n",
       "APTS_avg_5    float64\n",
       "H_gd_5        float64\n",
       "A_gd_5        float64\n",
       "H_eff_5       float64\n",
       "A_eff_5       float64\n",
       "HST_avg_5     float64\n",
       "AST_avg_5     float64\n",
       "target          int64\n",
       "H_status      float64\n",
       "A_status      float64\n",
       "H_H2H         float64\n",
       "A_H2H         float64\n",
       "dtype: object"
      ]
     },
     "execution_count": 5,
     "metadata": {},
     "output_type": "execute_result"
    }
   ],
   "source": [
    "seasons.dtypes"
   ]
  },
  {
   "cell_type": "markdown",
   "metadata": {},
   "source": [
    "#### Cleaning data"
   ]
  },
  {
   "cell_type": "code",
   "execution_count": 6,
   "metadata": {},
   "outputs": [],
   "source": [
    "t.clean_data(seasons)"
   ]
  },
  {
   "cell_type": "markdown",
   "metadata": {},
   "source": [
    "#### Seasons shape (number of matches, columns)"
   ]
  },
  {
   "cell_type": "code",
   "execution_count": 7,
   "metadata": {},
   "outputs": [
    {
     "data": {
      "text/plain": [
       "(5388, 31)"
      ]
     },
     "execution_count": 7,
     "metadata": {},
     "output_type": "execute_result"
    }
   ],
   "source": [
    "seasons.shape"
   ]
  },
  {
   "cell_type": "markdown",
   "metadata": {},
   "source": [
    "#### Features"
   ]
  },
  {
   "cell_type": "code",
   "execution_count": 8,
   "metadata": {},
   "outputs": [
    {
     "data": {
      "text/html": [
       "<div>\n",
       "<style scoped>\n",
       "    .dataframe tbody tr th:only-of-type {\n",
       "        vertical-align: middle;\n",
       "    }\n",
       "\n",
       "    .dataframe tbody tr th {\n",
       "        vertical-align: top;\n",
       "    }\n",
       "\n",
       "    .dataframe thead th {\n",
       "        text-align: right;\n",
       "    }\n",
       "</style>\n",
       "<table border=\"1\" class=\"dataframe\">\n",
       "  <thead>\n",
       "    <tr style=\"text-align: right;\">\n",
       "      <th></th>\n",
       "      <th>H_status</th>\n",
       "      <th>A_status</th>\n",
       "      <th>HPTS_avg_5</th>\n",
       "      <th>APTS_avg_5</th>\n",
       "      <th>H_gd_5</th>\n",
       "      <th>A_gd_5</th>\n",
       "      <th>H_eff_5</th>\n",
       "      <th>A_eff_5</th>\n",
       "      <th>HST_avg_5</th>\n",
       "      <th>AST_avg_5</th>\n",
       "      <th>H_H2H</th>\n",
       "      <th>A_H2H</th>\n",
       "    </tr>\n",
       "  </thead>\n",
       "  <tbody>\n",
       "    <tr>\n",
       "      <th>0</th>\n",
       "      <td>1.91</td>\n",
       "      <td>1.26</td>\n",
       "      <td>3.0</td>\n",
       "      <td>1.0</td>\n",
       "      <td>1.0</td>\n",
       "      <td>0.0</td>\n",
       "      <td>0.07</td>\n",
       "      <td>0.25</td>\n",
       "      <td>14.0</td>\n",
       "      <td>4.0</td>\n",
       "      <td>1.50</td>\n",
       "      <td>1.00</td>\n",
       "    </tr>\n",
       "    <tr>\n",
       "      <th>1</th>\n",
       "      <td>1.31</td>\n",
       "      <td>0.79</td>\n",
       "      <td>3.0</td>\n",
       "      <td>0.0</td>\n",
       "      <td>2.0</td>\n",
       "      <td>-1.0</td>\n",
       "      <td>0.38</td>\n",
       "      <td>0.00</td>\n",
       "      <td>8.0</td>\n",
       "      <td>4.0</td>\n",
       "      <td>2.00</td>\n",
       "      <td>0.50</td>\n",
       "    </tr>\n",
       "    <tr>\n",
       "      <th>2</th>\n",
       "      <td>1.52</td>\n",
       "      <td>1.31</td>\n",
       "      <td>0.0</td>\n",
       "      <td>0.0</td>\n",
       "      <td>-1.0</td>\n",
       "      <td>-4.0</td>\n",
       "      <td>0.40</td>\n",
       "      <td>0.00</td>\n",
       "      <td>5.0</td>\n",
       "      <td>8.0</td>\n",
       "      <td>1.67</td>\n",
       "      <td>1.17</td>\n",
       "    </tr>\n",
       "    <tr>\n",
       "      <th>3</th>\n",
       "      <td>0.00</td>\n",
       "      <td>1.13</td>\n",
       "      <td>3.0</td>\n",
       "      <td>0.0</td>\n",
       "      <td>1.0</td>\n",
       "      <td>-1.0</td>\n",
       "      <td>0.33</td>\n",
       "      <td>0.11</td>\n",
       "      <td>6.0</td>\n",
       "      <td>9.0</td>\n",
       "      <td>0.00</td>\n",
       "      <td>1.13</td>\n",
       "    </tr>\n",
       "    <tr>\n",
       "      <th>4</th>\n",
       "      <td>1.17</td>\n",
       "      <td>0.00</td>\n",
       "      <td>3.0</td>\n",
       "      <td>0.0</td>\n",
       "      <td>1.0</td>\n",
       "      <td>-2.0</td>\n",
       "      <td>0.20</td>\n",
       "      <td>0.50</td>\n",
       "      <td>10.0</td>\n",
       "      <td>2.0</td>\n",
       "      <td>1.17</td>\n",
       "      <td>0.00</td>\n",
       "    </tr>\n",
       "    <tr>\n",
       "      <th>...</th>\n",
       "      <td>...</td>\n",
       "      <td>...</td>\n",
       "      <td>...</td>\n",
       "      <td>...</td>\n",
       "      <td>...</td>\n",
       "      <td>...</td>\n",
       "      <td>...</td>\n",
       "      <td>...</td>\n",
       "      <td>...</td>\n",
       "      <td>...</td>\n",
       "      <td>...</td>\n",
       "      <td>...</td>\n",
       "    </tr>\n",
       "    <tr>\n",
       "      <th>5383</th>\n",
       "      <td>1.29</td>\n",
       "      <td>0.89</td>\n",
       "      <td>0.8</td>\n",
       "      <td>1.8</td>\n",
       "      <td>-7.0</td>\n",
       "      <td>-2.0</td>\n",
       "      <td>0.15</td>\n",
       "      <td>0.28</td>\n",
       "      <td>5.4</td>\n",
       "      <td>3.6</td>\n",
       "      <td>0.00</td>\n",
       "      <td>3.00</td>\n",
       "    </tr>\n",
       "    <tr>\n",
       "      <th>5384</th>\n",
       "      <td>1.28</td>\n",
       "      <td>1.68</td>\n",
       "      <td>1.0</td>\n",
       "      <td>0.4</td>\n",
       "      <td>-8.0</td>\n",
       "      <td>-7.0</td>\n",
       "      <td>0.30</td>\n",
       "      <td>0.53</td>\n",
       "      <td>4.6</td>\n",
       "      <td>3.4</td>\n",
       "      <td>0.75</td>\n",
       "      <td>2.25</td>\n",
       "    </tr>\n",
       "    <tr>\n",
       "      <th>5385</th>\n",
       "      <td>1.58</td>\n",
       "      <td>1.40</td>\n",
       "      <td>0.8</td>\n",
       "      <td>1.2</td>\n",
       "      <td>-4.0</td>\n",
       "      <td>-1.0</td>\n",
       "      <td>0.19</td>\n",
       "      <td>0.32</td>\n",
       "      <td>5.2</td>\n",
       "      <td>5.0</td>\n",
       "      <td>1.17</td>\n",
       "      <td>1.67</td>\n",
       "    </tr>\n",
       "    <tr>\n",
       "      <th>5386</th>\n",
       "      <td>1.74</td>\n",
       "      <td>0.74</td>\n",
       "      <td>3.0</td>\n",
       "      <td>1.2</td>\n",
       "      <td>9.0</td>\n",
       "      <td>1.0</td>\n",
       "      <td>0.26</td>\n",
       "      <td>0.38</td>\n",
       "      <td>7.6</td>\n",
       "      <td>3.2</td>\n",
       "      <td>2.00</td>\n",
       "      <td>0.50</td>\n",
       "    </tr>\n",
       "    <tr>\n",
       "      <th>5387</th>\n",
       "      <td>1.18</td>\n",
       "      <td>2.28</td>\n",
       "      <td>0.2</td>\n",
       "      <td>2.0</td>\n",
       "      <td>-8.0</td>\n",
       "      <td>6.0</td>\n",
       "      <td>0.27</td>\n",
       "      <td>0.57</td>\n",
       "      <td>3.0</td>\n",
       "      <td>4.2</td>\n",
       "      <td>0.50</td>\n",
       "      <td>2.50</td>\n",
       "    </tr>\n",
       "  </tbody>\n",
       "</table>\n",
       "<p>5388 rows × 12 columns</p>\n",
       "</div>"
      ],
      "text/plain": [
       "      H_status  A_status  HPTS_avg_5  APTS_avg_5  H_gd_5  A_gd_5  H_eff_5  \\\n",
       "0         1.91      1.26         3.0         1.0     1.0     0.0     0.07   \n",
       "1         1.31      0.79         3.0         0.0     2.0    -1.0     0.38   \n",
       "2         1.52      1.31         0.0         0.0    -1.0    -4.0     0.40   \n",
       "3         0.00      1.13         3.0         0.0     1.0    -1.0     0.33   \n",
       "4         1.17      0.00         3.0         0.0     1.0    -2.0     0.20   \n",
       "...        ...       ...         ...         ...     ...     ...      ...   \n",
       "5383      1.29      0.89         0.8         1.8    -7.0    -2.0     0.15   \n",
       "5384      1.28      1.68         1.0         0.4    -8.0    -7.0     0.30   \n",
       "5385      1.58      1.40         0.8         1.2    -4.0    -1.0     0.19   \n",
       "5386      1.74      0.74         3.0         1.2     9.0     1.0     0.26   \n",
       "5387      1.18      2.28         0.2         2.0    -8.0     6.0     0.27   \n",
       "\n",
       "      A_eff_5  HST_avg_5  AST_avg_5  H_H2H  A_H2H  \n",
       "0        0.25       14.0        4.0   1.50   1.00  \n",
       "1        0.00        8.0        4.0   2.00   0.50  \n",
       "2        0.00        5.0        8.0   1.67   1.17  \n",
       "3        0.11        6.0        9.0   0.00   1.13  \n",
       "4        0.50       10.0        2.0   1.17   0.00  \n",
       "...       ...        ...        ...    ...    ...  \n",
       "5383     0.28        5.4        3.6   0.00   3.00  \n",
       "5384     0.53        4.6        3.4   0.75   2.25  \n",
       "5385     0.32        5.2        5.0   1.17   1.67  \n",
       "5386     0.38        7.6        3.2   2.00   0.50  \n",
       "5387     0.57        3.0        4.2   0.50   2.50  \n",
       "\n",
       "[5388 rows x 12 columns]"
      ]
     },
     "execution_count": 8,
     "metadata": {},
     "output_type": "execute_result"
    }
   ],
   "source": [
    "features = ['H_status', 'A_status', 'HPTS_avg_5', 'APTS_avg_5', 'H_gd_5', 'A_gd_5', 'H_eff_5', 'A_eff_5', 'HST_avg_5', 'AST_avg_5', 'H_H2H', 'A_H2H']\n",
    "seasons[features]"
   ]
  },
  {
   "cell_type": "markdown",
   "metadata": {},
   "source": [
    "## Predictions"
   ]
  },
  {
   "cell_type": "code",
   "execution_count": 9,
   "metadata": {},
   "outputs": [],
   "source": [
    "years = [i for i in range(20, 23)]\n",
    "\n",
    "premier_league = seasons\n",
    "la_liga = pd.read_csv(f'../data/processed/SP1_seasons_5_to_23.csv')\n",
    "serie_a = pd.read_csv(f'../data/processed/I1_seasons_5_to_23.csv')\n",
    "ligue_1 = pd.read_csv(f'../data/processed/F1_seasons_5_to_23.csv')\n",
    "\n",
    "leagues = [premier_league, la_liga, serie_a, ligue_1]\n",
    "\n",
    "for league in leagues:\n",
    "    t.clean_data(league)"
   ]
  },
  {
   "cell_type": "code",
   "execution_count": 10,
   "metadata": {},
   "outputs": [],
   "source": [
    "season_start_year = 19\n",
    "X_train, X_test, y_train, y_test = t.my_train_test_split(premier_league, season_start_year, features)"
   ]
  },
  {
   "cell_type": "code",
   "execution_count": 11,
   "metadata": {},
   "outputs": [
    {
     "data": {
      "text/html": [
       "<div>\n",
       "<style scoped>\n",
       "    .dataframe tbody tr th:only-of-type {\n",
       "        vertical-align: middle;\n",
       "    }\n",
       "\n",
       "    .dataframe tbody tr th {\n",
       "        vertical-align: top;\n",
       "    }\n",
       "\n",
       "    .dataframe thead th {\n",
       "        text-align: right;\n",
       "    }\n",
       "</style>\n",
       "<table border=\"1\" class=\"dataframe\">\n",
       "  <thead>\n",
       "    <tr style=\"text-align: right;\">\n",
       "      <th></th>\n",
       "      <th>H_status</th>\n",
       "      <th>A_status</th>\n",
       "      <th>HPTS_avg_5</th>\n",
       "      <th>APTS_avg_5</th>\n",
       "      <th>H_gd_5</th>\n",
       "      <th>A_gd_5</th>\n",
       "      <th>H_eff_5</th>\n",
       "      <th>A_eff_5</th>\n",
       "      <th>HST_avg_5</th>\n",
       "      <th>AST_avg_5</th>\n",
       "      <th>H_H2H</th>\n",
       "      <th>A_H2H</th>\n",
       "    </tr>\n",
       "  </thead>\n",
       "  <tbody>\n",
       "    <tr>\n",
       "      <th>0</th>\n",
       "      <td>-1.903185</td>\n",
       "      <td>0.225426</td>\n",
       "      <td>-2.183112</td>\n",
       "      <td>-0.227470</td>\n",
       "      <td>-0.493239</td>\n",
       "      <td>0.302671</td>\n",
       "      <td>-1.503513</td>\n",
       "      <td>-2.210131</td>\n",
       "      <td>1.554845</td>\n",
       "      <td>-0.634469</td>\n",
       "      <td>-1.440680</td>\n",
       "      <td>0.287767</td>\n",
       "    </tr>\n",
       "    <tr>\n",
       "      <th>1</th>\n",
       "      <td>-1.903185</td>\n",
       "      <td>1.141911</td>\n",
       "      <td>1.954327</td>\n",
       "      <td>-1.629201</td>\n",
       "      <td>0.136428</td>\n",
       "      <td>-0.594132</td>\n",
       "      <td>0.459962</td>\n",
       "      <td>-2.210131</td>\n",
       "      <td>2.214446</td>\n",
       "      <td>1.903690</td>\n",
       "      <td>-1.440680</td>\n",
       "      <td>1.034190</td>\n",
       "    </tr>\n",
       "    <tr>\n",
       "      <th>2</th>\n",
       "      <td>-0.424983</td>\n",
       "      <td>-0.336291</td>\n",
       "      <td>-0.803966</td>\n",
       "      <td>-1.629201</td>\n",
       "      <td>-0.283350</td>\n",
       "      <td>-0.369931</td>\n",
       "      <td>-0.603587</td>\n",
       "      <td>-2.210131</td>\n",
       "      <td>-0.423959</td>\n",
       "      <td>-0.634469</td>\n",
       "      <td>-0.534423</td>\n",
       "      <td>0.360002</td>\n",
       "    </tr>\n",
       "    <tr>\n",
       "      <th>3</th>\n",
       "      <td>0.890617</td>\n",
       "      <td>-0.158907</td>\n",
       "      <td>1.954327</td>\n",
       "      <td>-1.629201</td>\n",
       "      <td>0.556206</td>\n",
       "      <td>0.078470</td>\n",
       "      <td>3.896043</td>\n",
       "      <td>-2.210131</td>\n",
       "      <td>0.235642</td>\n",
       "      <td>0.000071</td>\n",
       "      <td>1.785595</td>\n",
       "      <td>-1.241195</td>\n",
       "    </tr>\n",
       "    <tr>\n",
       "      <th>4</th>\n",
       "      <td>-1.903185</td>\n",
       "      <td>-0.055433</td>\n",
       "      <td>1.954327</td>\n",
       "      <td>-0.227470</td>\n",
       "      <td>-0.073461</td>\n",
       "      <td>0.302671</td>\n",
       "      <td>0.050905</td>\n",
       "      <td>0.182684</td>\n",
       "      <td>-1.083560</td>\n",
       "      <td>-0.634469</td>\n",
       "      <td>-1.440680</td>\n",
       "      <td>0.059025</td>\n",
       "    </tr>\n",
       "  </tbody>\n",
       "</table>\n",
       "</div>"
      ],
      "text/plain": [
       "   H_status  A_status  HPTS_avg_5  APTS_avg_5    H_gd_5    A_gd_5   H_eff_5  \\\n",
       "0 -1.903185  0.225426   -2.183112   -0.227470 -0.493239  0.302671 -1.503513   \n",
       "1 -1.903185  1.141911    1.954327   -1.629201  0.136428 -0.594132  0.459962   \n",
       "2 -0.424983 -0.336291   -0.803966   -1.629201 -0.283350 -0.369931 -0.603587   \n",
       "3  0.890617 -0.158907    1.954327   -1.629201  0.556206  0.078470  3.896043   \n",
       "4 -1.903185 -0.055433    1.954327   -0.227470 -0.073461  0.302671  0.050905   \n",
       "\n",
       "    A_eff_5  HST_avg_5  AST_avg_5     H_H2H     A_H2H  \n",
       "0 -2.210131   1.554845  -0.634469 -1.440680  0.287767  \n",
       "1 -2.210131   2.214446   1.903690 -1.440680  1.034190  \n",
       "2 -2.210131  -0.423959  -0.634469 -0.534423  0.360002  \n",
       "3 -2.210131   0.235642   0.000071  1.785595 -1.241195  \n",
       "4  0.182684  -1.083560  -0.634469 -1.440680  0.059025  "
      ]
     },
     "execution_count": 11,
     "metadata": {},
     "output_type": "execute_result"
    }
   ],
   "source": [
    "X_test.head()"
   ]
  },
  {
   "cell_type": "markdown",
   "metadata": {},
   "source": [
    "### Logistic regression"
   ]
  },
  {
   "cell_type": "code",
   "execution_count": 12,
   "metadata": {},
   "outputs": [
    {
     "name": "stdout",
     "output_type": "stream",
     "text": [
      "Number of (test) matches: 360\n",
      "Dokładność modelu treningowego: 0.526\n",
      "Dokładność modelu testowego: 0.525\n"
     ]
    }
   ],
   "source": [
    "from sklearn.linear_model import LogisticRegression\n",
    "from sklearn.metrics import accuracy_score\n",
    "\n",
    "lr_clf = LogisticRegression(\n",
    "    multi_class='ovr',\n",
    "    C=0.07,\n",
    "    penalty='elasticnet',\n",
    "    max_iter=400,\n",
    "    l1_ratio=0.77777,\n",
    "    solver='saga'\n",
    ")\n",
    "\n",
    "lr_clf.fit(X_train, y_train)\n",
    "y_pred_lr = lr_clf.predict(X_test)\n",
    "\n",
    "accuracy = np.round(accuracy_score(y_test, y_pred_lr), 3)\n",
    "\n",
    "print(f\"Number of (test) matches: {y_test.shape[0]}\")\n",
    "print(f\"Dokładność modelu treningowego: {lr_clf.score(X_train, y_train):.3f}\")\n",
    "print(f'Dokładność modelu testowego: {accuracy}')"
   ]
  },
  {
   "cell_type": "code",
   "execution_count": 13,
   "metadata": {},
   "outputs": [
    {
     "data": {
      "image/png": "[encoded data removed]",
      "text/plain": [
       "<Figure size 640x480 with 2 Axes>"
      ]
     },
     "metadata": {},
     "output_type": "display_data"
    }
   ],
   "source": [
    "t.plot_confustion_matrix(y_test, y_pred_lr, lr_clf, 'logistic regression')"
   ]
  },
  {
   "cell_type": "markdown",
   "metadata": {},
   "source": [
    "##### Prediction results from season 2020/21 to 2022/23"
   ]
  },
  {
   "cell_type": "code",
   "execution_count": 14,
   "metadata": {},
   "outputs": [
    {
     "data": {
      "text/html": [
       "<div>\n",
       "<style scoped>\n",
       "    .dataframe tbody tr th:only-of-type {\n",
       "        vertical-align: middle;\n",
       "    }\n",
       "\n",
       "    .dataframe tbody tr th {\n",
       "        vertical-align: top;\n",
       "    }\n",
       "\n",
       "    .dataframe thead tr th {\n",
       "        text-align: left;\n",
       "    }\n",
       "</style>\n",
       "<table border=\"1\" class=\"dataframe\">\n",
       "  <thead>\n",
       "    <tr>\n",
       "      <th></th>\n",
       "      <th colspan=\"2\" halign=\"left\">Premier League</th>\n",
       "      <th colspan=\"2\" halign=\"left\">La Liga</th>\n",
       "      <th colspan=\"2\" halign=\"left\">Serie A</th>\n",
       "      <th colspan=\"2\" halign=\"left\">Ligue 1</th>\n",
       "    </tr>\n",
       "    <tr>\n",
       "      <th></th>\n",
       "      <th>Season</th>\n",
       "      <th>Accuracy</th>\n",
       "      <th>Season</th>\n",
       "      <th>Accuracy</th>\n",
       "      <th>Season</th>\n",
       "      <th>Accuracy</th>\n",
       "      <th>Season</th>\n",
       "      <th>Accuracy</th>\n",
       "    </tr>\n",
       "  </thead>\n",
       "  <tbody>\n",
       "    <tr>\n",
       "      <th>0</th>\n",
       "      <td>20/21</td>\n",
       "      <td>0.475</td>\n",
       "      <td>20/21</td>\n",
       "      <td>0.513</td>\n",
       "      <td>20/21</td>\n",
       "      <td>0.537</td>\n",
       "      <td>20/21</td>\n",
       "      <td>0.469</td>\n",
       "    </tr>\n",
       "    <tr>\n",
       "      <th>1</th>\n",
       "      <td>21/22</td>\n",
       "      <td>0.511</td>\n",
       "      <td>21/22</td>\n",
       "      <td>0.528</td>\n",
       "      <td>21/22</td>\n",
       "      <td>0.494</td>\n",
       "      <td>21/22</td>\n",
       "      <td>0.467</td>\n",
       "    </tr>\n",
       "    <tr>\n",
       "      <th>2</th>\n",
       "      <td>22/23</td>\n",
       "      <td>0.517</td>\n",
       "      <td>22/23</td>\n",
       "      <td>0.555</td>\n",
       "      <td>22/23</td>\n",
       "      <td>0.506</td>\n",
       "      <td>22/23</td>\n",
       "      <td>0.499</td>\n",
       "    </tr>\n",
       "  </tbody>\n",
       "</table>\n",
       "</div>"
      ],
      "text/plain": [
       "  Premier League          La Liga          Serie A          Ligue 1         \n",
       "          Season Accuracy  Season Accuracy  Season Accuracy  Season Accuracy\n",
       "0          20/21    0.475   20/21    0.513   20/21    0.537   20/21    0.469\n",
       "1          21/22    0.511   21/22    0.528   21/22    0.494   21/22    0.467\n",
       "2          22/23    0.517   22/23    0.555   22/23    0.506   22/23    0.499"
      ]
     },
     "execution_count": 14,
     "metadata": {},
     "output_type": "execute_result"
    }
   ],
   "source": [
    "t.plot_leagues_predictions(leagues, years, features, lr_clf)"
   ]
  },
  {
   "cell_type": "markdown",
   "metadata": {},
   "source": [
    "### Random forest"
   ]
  },
  {
   "cell_type": "code",
   "execution_count": 15,
   "metadata": {},
   "outputs": [
    {
     "name": "stdout",
     "output_type": "stream",
     "text": [
      "Najlepsze parametry:  {'n_estimators': 500, 'min_samples_split': 20, 'min_samples_leaf': 4, 'max_depth': 5, 'criterion': 'log_loss', 'bootstrap': False}\n"
     ]
    }
   ],
   "source": [
    "from sklearn.model_selection import GridSearchCV, RandomizedSearchCV\n",
    "from sklearn.ensemble import RandomForestClassifier\n",
    "\n",
    "rf_clf = RandomForestClassifier()\n",
    "\n",
    "param_grid_rf = {\n",
    "    'n_estimators': [100, 200, 300, 400, 500],\n",
    "    'criterion': ['gini', 'entropy', 'log_loss'],\n",
    "    'max_depth': [2, 5, 10, 20, 30, None],\n",
    "    'min_samples_split': [2, 5, 10, 15, 20],\n",
    "    'min_samples_leaf': [1, 2, 4, 8],\n",
    "    'bootstrap': [True, False]\n",
    "}\n",
    "\n",
    "random_search = RandomizedSearchCV(estimator=rf_clf, param_distributions=param_grid_rf, cv=5, random_state=42, n_jobs=-1, scoring='accuracy')\n",
    "random_search.fit(X_train, y_train)\n",
    "\n",
    "print(\"Najlepsze parametry: \", random_search.best_params_)"
   ]
  },
  {
   "cell_type": "code",
   "execution_count": 16,
   "metadata": {},
   "outputs": [
    {
     "name": "stdout",
     "output_type": "stream",
     "text": [
      "Number of (test) matches: 360\n",
      "Dokładność modelu treningowego: 0.538\n",
      "Dokładność modelu testowego: 0.506\n"
     ]
    }
   ],
   "source": [
    "rf_clf = RandomForestClassifier(\n",
    "    n_estimators=480,\n",
    "    min_samples_split=2,\n",
    "    min_samples_leaf=1,\n",
    "    max_depth=2,\n",
    "    criterion='log_loss',\n",
    "    bootstrap=True\n",
    ")\n",
    "\n",
    "rf_clf.fit(X_train, y_train)\n",
    "y_pred_rf = rf_clf.predict(X_test)\n",
    "\n",
    "accuracy = np.round(accuracy_score(y_test, y_pred_rf), 3)\n",
    "\n",
    "print(f\"Number of (test) matches: {y_test.shape[0]}\")\n",
    "print(f\"Dokładność modelu treningowego: {rf_clf.score(X_train, y_train):.3f}\")\n",
    "print(f'Dokładność modelu testowego: {accuracy}')"
   ]
  },
  {
   "cell_type": "code",
   "execution_count": 17,
   "metadata": {},
   "outputs": [
    {
     "data": {
      "image/png": "[encoded data removed]",
      "text/plain": [
       "<Figure size 640x480 with 2 Axes>"
      ]
     },
     "metadata": {},
     "output_type": "display_data"
    }
   ],
   "source": [
    "t.plot_confustion_matrix(y_test, y_pred_rf, rf_clf, 'random forest')"
   ]
  },
  {
   "cell_type": "code",
   "execution_count": 18,
   "metadata": {},
   "outputs": [
    {
     "data": {
      "text/html": [
       "<div>\n",
       "<style scoped>\n",
       "    .dataframe tbody tr th:only-of-type {\n",
       "        vertical-align: middle;\n",
       "    }\n",
       "\n",
       "    .dataframe tbody tr th {\n",
       "        vertical-align: top;\n",
       "    }\n",
       "\n",
       "    .dataframe thead tr th {\n",
       "        text-align: left;\n",
       "    }\n",
       "</style>\n",
       "<table border=\"1\" class=\"dataframe\">\n",
       "  <thead>\n",
       "    <tr>\n",
       "      <th></th>\n",
       "      <th colspan=\"2\" halign=\"left\">Premier League</th>\n",
       "      <th colspan=\"2\" halign=\"left\">La Liga</th>\n",
       "      <th colspan=\"2\" halign=\"left\">Serie A</th>\n",
       "      <th colspan=\"2\" halign=\"left\">Ligue 1</th>\n",
       "    </tr>\n",
       "    <tr>\n",
       "      <th></th>\n",
       "      <th>Season</th>\n",
       "      <th>Accuracy</th>\n",
       "      <th>Season</th>\n",
       "      <th>Accuracy</th>\n",
       "      <th>Season</th>\n",
       "      <th>Accuracy</th>\n",
       "      <th>Season</th>\n",
       "      <th>Accuracy</th>\n",
       "    </tr>\n",
       "  </thead>\n",
       "  <tbody>\n",
       "    <tr>\n",
       "      <th>0</th>\n",
       "      <td>20/21</td>\n",
       "      <td>0.450</td>\n",
       "      <td>20/21</td>\n",
       "      <td>0.487</td>\n",
       "      <td>20/21</td>\n",
       "      <td>0.507</td>\n",
       "      <td>20/21</td>\n",
       "      <td>0.413</td>\n",
       "    </tr>\n",
       "    <tr>\n",
       "      <th>1</th>\n",
       "      <td>21/22</td>\n",
       "      <td>0.497</td>\n",
       "      <td>21/22</td>\n",
       "      <td>0.506</td>\n",
       "      <td>21/22</td>\n",
       "      <td>0.508</td>\n",
       "      <td>21/22</td>\n",
       "      <td>0.464</td>\n",
       "    </tr>\n",
       "    <tr>\n",
       "      <th>2</th>\n",
       "      <td>22/23</td>\n",
       "      <td>0.514</td>\n",
       "      <td>22/23</td>\n",
       "      <td>0.544</td>\n",
       "      <td>22/23</td>\n",
       "      <td>0.494</td>\n",
       "      <td>22/23</td>\n",
       "      <td>0.499</td>\n",
       "    </tr>\n",
       "  </tbody>\n",
       "</table>\n",
       "</div>"
      ],
      "text/plain": [
       "  Premier League          La Liga          Serie A          Ligue 1         \n",
       "          Season Accuracy  Season Accuracy  Season Accuracy  Season Accuracy\n",
       "0          20/21    0.450   20/21    0.487   20/21    0.507   20/21    0.413\n",
       "1          21/22    0.497   21/22    0.506   21/22    0.508   21/22    0.464\n",
       "2          22/23    0.514   22/23    0.544   22/23    0.494   22/23    0.499"
      ]
     },
     "execution_count": 18,
     "metadata": {},
     "output_type": "execute_result"
    }
   ],
   "source": [
    "t.plot_leagues_predictions(leagues, years, features, rf_clf)"
   ]
  },
  {
   "cell_type": "markdown",
   "metadata": {},
   "source": [
    "### Gradient boosting"
   ]
  },
  {
   "cell_type": "code",
   "execution_count": 19,
   "metadata": {},
   "outputs": [
    {
     "name": "stdout",
     "output_type": "stream",
     "text": [
      "Najlepsze parametry:  {'subsample': 0.8, 'n_estimators': 100, 'min_samples_split': 6, 'min_samples_leaf': 1, 'max_features': None, 'max_depth': 5, 'learning_rate': 0.01}\n"
     ]
    }
   ],
   "source": [
    "from sklearn.ensemble import GradientBoostingClassifier\n",
    "\n",
    "gb_clf = GradientBoostingClassifier()\n",
    "\n",
    "param_grid_gb = {\n",
    "    'n_estimators': [100, 200, 300], \n",
    "    'learning_rate': [0.001, 0.01, 0.1, 0.2],\n",
    "    'max_depth': [3, 4, 5, 6],\n",
    "    'min_samples_split': [2, 4, 6],\n",
    "    'min_samples_leaf': [1, 2, 4],\n",
    "    'max_features': ['sqrt', 'log2', None],\n",
    "    'subsample': [0.8, 0.9, 1.0],\n",
    "}\n",
    "\n",
    "random_search = RandomizedSearchCV(estimator=gb_clf, param_distributions=param_grid_gb, cv=5, random_state=42 ,n_jobs=-1, scoring='accuracy')\n",
    "random_search.fit(X_train, y_train)\n",
    "\n",
    "print(\"Najlepsze parametry: \", random_search.best_params_)"
   ]
  },
  {
   "cell_type": "code",
   "execution_count": 20,
   "metadata": {},
   "outputs": [
    {
     "name": "stdout",
     "output_type": "stream",
     "text": [
      "Number of (test) matches: 360\n",
      "Dokładność modelu treningowego: 0.553\n",
      "Dokładność modelu testowego: 0.517\n"
     ]
    }
   ],
   "source": [
    "gb_clf = GradientBoostingClassifier(\n",
    "    subsample=0.9,\n",
    "    n_estimators=300,\n",
    "    min_samples_split=4,\n",
    "    min_samples_leaf=4,\n",
    "    max_features=None,\n",
    "    max_depth=3,\n",
    "    learning_rate=0.01\n",
    ")\n",
    "\n",
    "gb_clf.fit(X_train, y_train)\n",
    "y_pred_gb = gb_clf.predict(X_test)\n",
    "\n",
    "accuracy = np.round(accuracy_score(y_test, y_pred_gb), 3)\n",
    "\n",
    "print(f\"Number of (test) matches: {y_test.shape[0]}\")\n",
    "print(f\"Dokładność modelu treningowego: {gb_clf.score(X_train, y_train):.3f}\")\n",
    "print(f'Dokładność modelu testowego: {accuracy}')"
   ]
  },
  {
   "cell_type": "code",
   "execution_count": 21,
   "metadata": {},
   "outputs": [
    {
     "data": {
      "image/png": "[encoded data removed]",
      "text/plain": [
       "<Figure size 640x480 with 2 Axes>"
      ]
     },
     "metadata": {},
     "output_type": "display_data"
    }
   ],
   "source": [
    "t.plot_confustion_matrix(y_test, y_pred_gb, gb_clf, 'gradient boosting')"
   ]
  },
  {
   "cell_type": "code",
   "execution_count": 22,
   "metadata": {},
   "outputs": [
    {
     "data": {
      "text/html": [
       "<div>\n",
       "<style scoped>\n",
       "    .dataframe tbody tr th:only-of-type {\n",
       "        vertical-align: middle;\n",
       "    }\n",
       "\n",
       "    .dataframe tbody tr th {\n",
       "        vertical-align: top;\n",
       "    }\n",
       "\n",
       "    .dataframe thead tr th {\n",
       "        text-align: left;\n",
       "    }\n",
       "</style>\n",
       "<table border=\"1\" class=\"dataframe\">\n",
       "  <thead>\n",
       "    <tr>\n",
       "      <th></th>\n",
       "      <th colspan=\"2\" halign=\"left\">Premier League</th>\n",
       "      <th colspan=\"2\" halign=\"left\">La Liga</th>\n",
       "      <th colspan=\"2\" halign=\"left\">Serie A</th>\n",
       "      <th colspan=\"2\" halign=\"left\">Ligue 1</th>\n",
       "    </tr>\n",
       "    <tr>\n",
       "      <th></th>\n",
       "      <th>Season</th>\n",
       "      <th>Accuracy</th>\n",
       "      <th>Season</th>\n",
       "      <th>Accuracy</th>\n",
       "      <th>Season</th>\n",
       "      <th>Accuracy</th>\n",
       "      <th>Season</th>\n",
       "      <th>Accuracy</th>\n",
       "    </tr>\n",
       "  </thead>\n",
       "  <tbody>\n",
       "    <tr>\n",
       "      <th>0</th>\n",
       "      <td>20/21</td>\n",
       "      <td>0.466</td>\n",
       "      <td>20/21</td>\n",
       "      <td>0.510</td>\n",
       "      <td>20/21</td>\n",
       "      <td>0.518</td>\n",
       "      <td>20/21</td>\n",
       "      <td>0.472</td>\n",
       "    </tr>\n",
       "    <tr>\n",
       "      <th>1</th>\n",
       "      <td>21/22</td>\n",
       "      <td>0.511</td>\n",
       "      <td>21/22</td>\n",
       "      <td>0.500</td>\n",
       "      <td>21/22</td>\n",
       "      <td>0.506</td>\n",
       "      <td>21/22</td>\n",
       "      <td>0.478</td>\n",
       "    </tr>\n",
       "    <tr>\n",
       "      <th>2</th>\n",
       "      <td>22/23</td>\n",
       "      <td>0.525</td>\n",
       "      <td>22/23</td>\n",
       "      <td>0.552</td>\n",
       "      <td>22/23</td>\n",
       "      <td>0.497</td>\n",
       "      <td>22/23</td>\n",
       "      <td>0.493</td>\n",
       "    </tr>\n",
       "  </tbody>\n",
       "</table>\n",
       "</div>"
      ],
      "text/plain": [
       "  Premier League          La Liga          Serie A          Ligue 1         \n",
       "          Season Accuracy  Season Accuracy  Season Accuracy  Season Accuracy\n",
       "0          20/21    0.466   20/21    0.510   20/21    0.518   20/21    0.472\n",
       "1          21/22    0.511   21/22    0.500   21/22    0.506   21/22    0.478\n",
       "2          22/23    0.525   22/23    0.552   22/23    0.497   22/23    0.493"
      ]
     },
     "execution_count": 22,
     "metadata": {},
     "output_type": "execute_result"
    }
   ],
   "source": [
    "t.plot_leagues_predictions(leagues, years, features, gb_clf)"
   ]
  },
  {
   "cell_type": "markdown",
   "metadata": {},
   "source": [
    "### SVM"
   ]
  },
  {
   "cell_type": "code",
   "execution_count": 23,
   "metadata": {},
   "outputs": [
    {
     "name": "stdout",
     "output_type": "stream",
     "text": [
      "Najlepsze parametry:  {'kernel': 'rbf', 'gamma': 0.01, 'C': 1}\n"
     ]
    }
   ],
   "source": [
    "from sklearn.svm import SVC\n",
    "\n",
    "svm_clf = SVC()\n",
    "\n",
    "param_grid_svm = {\n",
    "    'C': [0.1, 1, 10, 100],\n",
    "    'gamma': [1, 0.1, 0.01, 0.001, 0.0001],\n",
    "    'kernel': ['rbf', 'poly', 'sigmoid', 'linear'],\n",
    "}\n",
    "\n",
    "random_search = RandomizedSearchCV(estimator=svm_clf, param_distributions=param_grid_svm, cv=5, random_state=42, n_jobs=-1, scoring='accuracy')\n",
    "random_search.fit(X_train, y_train)\n",
    "\n",
    "print(\"Najlepsze parametry: \", random_search.best_params_)"
   ]
  },
  {
   "cell_type": "code",
   "execution_count": 24,
   "metadata": {},
   "outputs": [
    {
     "name": "stdout",
     "output_type": "stream",
     "text": [
      "Number of (test) matches: 360\n",
      "Dokładność modelu treningowego: 0.531\n",
      "Dokładność modelu testowego: 0.517\n"
     ]
    }
   ],
   "source": [
    "svm_clf = SVC(\n",
    "    C=1,\n",
    "    gamma=0.01,\n",
    "    kernel='rbf'\n",
    ")\n",
    "\n",
    "svm_clf.fit(X_train, y_train)\n",
    "y_pred_svm = svm_clf.predict(X_test)\n",
    "\n",
    "accuracy = np.round(accuracy_score(y_test, y_pred_svm), 3)\n",
    "\n",
    "print(f\"Number of (test) matches: {y_test.shape[0]}\")\n",
    "print(f\"Dokładność modelu treningowego: {svm_clf.score(X_train, y_train):.3f}\")\n",
    "print(f'Dokładność modelu testowego: {accuracy}')"
   ]
  },
  {
   "cell_type": "code",
   "execution_count": 25,
   "metadata": {},
   "outputs": [
    {
     "data": {
      "image/png": "[encoded data removed]",
      "text/plain": [
       "<Figure size 640x480 with 2 Axes>"
      ]
     },
     "metadata": {},
     "output_type": "display_data"
    }
   ],
   "source": [
    "t.plot_confustion_matrix(y_test, y_pred_svm, svm_clf, 'svm')"
   ]
  },
  {
   "cell_type": "code",
   "execution_count": 26,
   "metadata": {},
   "outputs": [
    {
     "data": {
      "text/html": [
       "<div>\n",
       "<style scoped>\n",
       "    .dataframe tbody tr th:only-of-type {\n",
       "        vertical-align: middle;\n",
       "    }\n",
       "\n",
       "    .dataframe tbody tr th {\n",
       "        vertical-align: top;\n",
       "    }\n",
       "\n",
       "    .dataframe thead tr th {\n",
       "        text-align: left;\n",
       "    }\n",
       "</style>\n",
       "<table border=\"1\" class=\"dataframe\">\n",
       "  <thead>\n",
       "    <tr>\n",
       "      <th></th>\n",
       "      <th colspan=\"2\" halign=\"left\">Premier League</th>\n",
       "      <th colspan=\"2\" halign=\"left\">La Liga</th>\n",
       "      <th colspan=\"2\" halign=\"left\">Serie A</th>\n",
       "      <th colspan=\"2\" halign=\"left\">Ligue 1</th>\n",
       "    </tr>\n",
       "    <tr>\n",
       "      <th></th>\n",
       "      <th>Season</th>\n",
       "      <th>Accuracy</th>\n",
       "      <th>Season</th>\n",
       "      <th>Accuracy</th>\n",
       "      <th>Season</th>\n",
       "      <th>Accuracy</th>\n",
       "      <th>Season</th>\n",
       "      <th>Accuracy</th>\n",
       "    </tr>\n",
       "  </thead>\n",
       "  <tbody>\n",
       "    <tr>\n",
       "      <th>0</th>\n",
       "      <td>20/21</td>\n",
       "      <td>0.478</td>\n",
       "      <td>20/21</td>\n",
       "      <td>0.482</td>\n",
       "      <td>20/21</td>\n",
       "      <td>0.529</td>\n",
       "      <td>20/21</td>\n",
       "      <td>0.436</td>\n",
       "    </tr>\n",
       "    <tr>\n",
       "      <th>1</th>\n",
       "      <td>21/22</td>\n",
       "      <td>0.519</td>\n",
       "      <td>21/22</td>\n",
       "      <td>0.497</td>\n",
       "      <td>21/22</td>\n",
       "      <td>0.500</td>\n",
       "      <td>21/22</td>\n",
       "      <td>0.478</td>\n",
       "    </tr>\n",
       "    <tr>\n",
       "      <th>2</th>\n",
       "      <td>22/23</td>\n",
       "      <td>0.522</td>\n",
       "      <td>22/23</td>\n",
       "      <td>0.538</td>\n",
       "      <td>22/23</td>\n",
       "      <td>0.497</td>\n",
       "      <td>22/23</td>\n",
       "      <td>0.501</td>\n",
       "    </tr>\n",
       "  </tbody>\n",
       "</table>\n",
       "</div>"
      ],
      "text/plain": [
       "  Premier League          La Liga          Serie A          Ligue 1         \n",
       "          Season Accuracy  Season Accuracy  Season Accuracy  Season Accuracy\n",
       "0          20/21    0.478   20/21    0.482   20/21    0.529   20/21    0.436\n",
       "1          21/22    0.519   21/22    0.497   21/22    0.500   21/22    0.478\n",
       "2          22/23    0.522   22/23    0.538   22/23    0.497   22/23    0.501"
      ]
     },
     "execution_count": 26,
     "metadata": {},
     "output_type": "execute_result"
    }
   ],
   "source": [
    "t.plot_leagues_predictions(leagues, years, features, svm_clf)"
   ]
  }
 ],
 "metadata": {
  "kernelspec": {
   "display_name": "Python 3",
   "language": "python",
   "name": "python3"
  },
  "language_info": {
   "codemirror_mode": {
    "name": "ipython",
    "version": 3
   },
   "file_extension": ".py",
   "mimetype": "text/x-python",
   "name": "python",
   "nbconvert_exporter": "python",
   "pygments_lexer": "ipython3",
   "version": "3.10.8"
  }
 },
 "nbformat": 4,
 "nbformat_minor": 2
}
