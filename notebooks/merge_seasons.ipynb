{
 "cells": [
  {
   "cell_type": "code",
   "execution_count": 1,
   "metadata": {},
   "outputs": [],
   "source": [
    "import pandas as pd\n",
    "import os\n",
    "import sys\n",
    "sys.path.append('../src')\n",
    "import core as c"
   ]
  },
  {
   "cell_type": "markdown",
   "metadata": {},
   "source": [
    "#### Dataset parameters"
   ]
  },
  {
   "cell_type": "code",
   "execution_count": 2,
   "metadata": {},
   "outputs": [],
   "source": [
    "# Premier_league - E0, La_liga - SP1, Ligue_1 - F1, Serie_A - I1\n",
    "league_name, code = \"Premier_league\", \"E0\"\n",
    "FIRST_SEASON_YEAR, LAST_SEASON_YEAR = 5, 23"
   ]
  },
  {
   "cell_type": "markdown",
   "metadata": {},
   "source": [
    "#### Last number of seaseons to calculate new features"
   ]
  },
  {
   "cell_type": "code",
   "execution_count": 3,
   "metadata": {},
   "outputs": [],
   "source": [
    "N = 5"
   ]
  },
  {
   "cell_type": "markdown",
   "metadata": {},
   "source": [
    "#### Important columns "
   ]
  },
  {
   "cell_type": "code",
   "execution_count": 4,
   "metadata": {},
   "outputs": [],
   "source": [
    "selected_columns = [\n",
    "    'Div', 'Date', 'HomeTeam', 'AwayTeam', 'FTHG', 'FTAG', 'FTR', 'HTHG', 'HTAG', 'HTR', 'HS', 'AS', 'HST', 'AST', 'HY', 'AY', 'HR', 'AR',\n",
    "    f'HPTS_avg_{N}', f'APTS_avg_{N}', f'H_gd_{N}', f'A_gd_{N}', f'H_eff_{N}', f'A_eff_{N}', f'HST_avg_{N}', f'AST_avg_{N}', 'target'\n",
    "]"
   ]
  },
  {
   "cell_type": "markdown",
   "metadata": {},
   "source": [
    "#### Creating folder if not exist"
   ]
  },
  {
   "cell_type": "code",
   "execution_count": 5,
   "metadata": {},
   "outputs": [],
   "source": [
    "output_folder = f\"../data/processed/\"\n",
    "\n",
    "if not os.path.exists(output_folder):\n",
    "    os.makedirs(output_folder)"
   ]
  },
  {
   "cell_type": "markdown",
   "metadata": {},
   "source": [
    "#### Main function"
   ]
  },
  {
   "cell_type": "code",
   "execution_count": 6,
   "metadata": {},
   "outputs": [],
   "source": [
    "def merge_all_seasons(file_names, selected_columns, output_folder, N):\n",
    "    merged_df = pd.DataFrame()\n",
    "\n",
    "    for i in range(len(file_names)):\n",
    "        current_basic_df = pd.read_csv(f\"../data/raw/{league_name}/{file_names[i]}.csv\")\n",
    "        current_transformed_df = c.data_transformation(current_basic_df, [\"HST\", \"AST\"], window=N)\n",
    "        current_df = current_transformed_df[selected_columns].copy()  \n",
    "\n",
    "        if i > 2:\n",
    "            last_seasons = [pd.read_csv(f\"../data/raw/{league_name}/{file_names[j]}.csv\") for j in range(i-3, i)]\n",
    "            teams_status_dict = c.create_teams_status_dict(current_df, last_seasons)\n",
    "            current_df['H_status'] = current_df['HomeTeam'].apply(lambda team: teams_status_dict.get(team))\n",
    "            current_df['A_status'] = current_df['AwayTeam'].apply(lambda team: teams_status_dict.get(team))\n",
    "\n",
    "            current_df = c.calc_h2h_stats(current_df, last_seasons)\n",
    "\n",
    "        merged_df = pd.concat([merged_df, current_df], ignore_index=True)\n",
    "\n",
    "    output_file = os.path.join(output_folder, f\"{code}_seasons_{FIRST_SEASON_YEAR}_to_{LAST_SEASON_YEAR}.csv\")\n",
    "    merged_df.to_csv(output_file, index=False)\n",
    "    print(f\"Merged data saved to {output_file}\")"
   ]
  },
  {
   "cell_type": "code",
   "execution_count": 7,
   "metadata": {},
   "outputs": [
    {
     "name": "stdout",
     "output_type": "stream",
     "text": [
      "Merged data saved to ../data/processed/E0_seasons_5_to_23.csv\n"
     ]
    }
   ],
   "source": [
    "file_names_to_merge = [f\"{code}_{str(year).zfill(2)}_{str(year+1).zfill(2)}\" for year in range(FIRST_SEASON_YEAR, LAST_SEASON_YEAR)]\n",
    "merge_all_seasons(file_names_to_merge, selected_columns, output_folder, N)"
   ]
  }
 ],
 "metadata": {
  "kernelspec": {
   "display_name": "Python 3",
   "language": "python",
   "name": "python3"
  },
  "language_info": {
   "codemirror_mode": {
    "name": "ipython",
    "version": 3
   },
   "file_extension": ".py",
   "mimetype": "text/x-python",
   "name": "python",
   "nbconvert_exporter": "python",
   "pygments_lexer": "ipython3",
   "version": "3.10.8"
  }
 },
 "nbformat": 4,
 "nbformat_minor": 2
}
